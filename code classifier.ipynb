{
 "cells": [
  {
   "cell_type": "code",
   "execution_count": 151,
   "metadata": {
    "collapsed": true
   },
   "outputs": [],
   "source": [
    "from sklearn.naive_bayes import MultinomialNB\n",
    "from sklearn.feature_extraction.text import CountVectorizer\n",
    "from sklearn.feature_extraction.text import TfidfTransformer\n",
    "from sklearn.pipeline import Pipeline\n",
    "from sklearn.cross_validation import train_test_split\n",
    "import pandas as pd\n",
    "import glob\n",
    "import codecs\n",
    "%matplotlib inline"
   ]
  },
  {
   "cell_type": "markdown",
   "metadata": {},
   "source": [
    "I'm not sure I totally understand how to impliment this homework task.\n",
    "I understand that the code snippets need to be used as examples for the machine learning, to train the machine to recongnize code patterns to distinguish between different languages. I just don't know how to make this happen. \n",
    "I can't seem to get past the reading in portion. Once I have the files loaded in I don't know how to use them to train the machine. I've been trying to figure out how to use a pipeline to vecrotize, transfor, and classify the code snippets but I'm having a hard time figuring out what isn't working when I try to fit the data. "
   ]
  },
  {
   "cell_type": "code",
   "execution_count": null,
   "metadata": {
    "collapsed": true
   },
   "outputs": [],
   "source": []
  },
  {
   "cell_type": "code",
   "execution_count": 152,
   "metadata": {
    "collapsed": false
   },
   "outputs": [],
   "source": [
    "# clojure = glob.glob('bench/*.clojure')\n",
    "# python = glob.glob('bench/*.python3')\n",
    "# javascript = glob.glob('bench/*.javascript')\n",
    "# ruby = glob.glob('bench/*.jruby')\n",
    "# haskell = glob.glob('bench/*.ghc')\n",
    "# scheme = glob.glob('bench/*.racket')\n",
    "# java = glob.glob('bench/*.java')\n",
    "# scala = glob.glob('bench/*.scala')\n",
    "# tcl = glob.glob('bench/*.gcc')\n",
    "# php = glob.glob('bench/*.php')\n",
    "# ocaml = glob.glob('bench/*.ocaml')\n"
   ]
  },
  {
   "cell_type": "code",
   "execution_count": null,
   "metadata": {
    "collapsed": false
   },
   "outputs": [],
   "source": []
  },
  {
   "cell_type": "code",
   "execution_count": 156,
   "metadata": {
    "collapsed": false
   },
   "outputs": [],
   "source": [
    "def read_files(directory, ftype):\n",
    "    files = glob.glob('{}/**/*.{}'.format(directory, ftype), recursive=True)\n",
    "    for fiyl in files:\n",
    "        y_file_type.append(ftype)\n",
    "        with open(fiyl) as f:\n",
    "            x_texts.append(f.read())\n",
    "            \n",
    "x_texts = []\n",
    "y_file_type = []\n",
    "\n",
    "file_types = ['gcc', 'c', 'csharp', 'sbcl', 'clojure', 'java', 'javascript', 'ocaml', 'perl', 'hack', 'php', 'python3', 'jruby', 'yarv', 'scala', 'racket']\n",
    "\n",
    "for ft in file_types:\n",
    "    read_files('/Users/trishataylor/Documents/week5/homework/polyglot/bench', file_types)\n",
    "    "
   ]
  },
  {
   "cell_type": "code",
   "execution_count": 157,
   "metadata": {
    "collapsed": false
   },
   "outputs": [],
   "source": [
    "pipeline = Pipeline([\n",
    "    ('vectorizer',  CountVectorizer()),\n",
    "    ('tfidf', TfidfTransformer()),\n",
    "    ('classifier',  MultinomialNB()),\n",
    "    ])"
   ]
  },
  {
   "cell_type": "code",
   "execution_count": 159,
   "metadata": {
    "collapsed": false
   },
   "outputs": [
    {
     "ename": "NameError",
     "evalue": "name 'classifier' is not defined",
     "output_type": "error",
     "traceback": [
      "\u001b[0;31m---------------------------------------------------------------------------\u001b[0m",
      "\u001b[0;31mNameError\u001b[0m                                 Traceback (most recent call last)",
      "\u001b[0;32m<ipython-input-159-b94f05d78b41>\u001b[0m in \u001b[0;36m<module>\u001b[0;34m()\u001b[0m\n\u001b[0;32m----> 1\u001b[0;31m \u001b[0mclassifier\u001b[0m\u001b[0;34m.\u001b[0m\u001b[0mfit\u001b[0m\u001b[0;34m(\u001b[0m\u001b[0mx_texts\u001b[0m\u001b[0;34m,\u001b[0m \u001b[0my_file_types\u001b[0m\u001b[0;34m)\u001b[0m\u001b[0;34m\u001b[0m\u001b[0m\n\u001b[0m",
      "\u001b[0;31mNameError\u001b[0m: name 'classifier' is not defined"
     ]
    }
   ],
   "source": [
    "classifier.fit(x_texts, y_file_types)"
   ]
  },
  {
   "cell_type": "code",
   "execution_count": null,
   "metadata": {
    "collapsed": true
   },
   "outputs": [],
   "source": []
  },
  {
   "cell_type": "code",
   "execution_count": 105,
   "metadata": {
    "collapsed": false
   },
   "outputs": [],
   "source": [
    "# clojure_train = read_language_sample('clojure-train')\n",
    "# clojure_test = read_language_sample('clojure-test')\n",
    "\n",
    "# python_train = read_language_sample('python-train')\n",
    "# python_test = read_language_sample('python-test')\n",
    "\n",
    "# javascript_train = read_language_sample('javascript-train')\n",
    "# javascript_test = read_language_sample('javascript-test')\n",
    "\n",
    "# ruby_train = read_language_sample('ruby-train')\n",
    "# ruby_test = read_language_sample('ruby-test')\n",
    "\n",
    "# haskell_train = read_language_sample('haskell-train')\n",
    "# haskell_test = read_language_sample('haskell-test')\n",
    "\n",
    "# scheme_train = read_language_sample('scheme-train')\n",
    "# scheme_test = read_language_sample('scheme-test')\n",
    "\n",
    "# java_train = read_language_sample('java-train')\n",
    "# java_test = read_language_sample('java-test')\n",
    "\n",
    "# scala_train = read_language_sample('scala-train')\n",
    "# scala_test = read_language_sample('scala-test')\n",
    "\n",
    "# tcl_train = read_language_sample('tcl-train')\n",
    "# tcl_test = read_language_sample('tcl-test')\n",
    "\n",
    "# php_train = read_language_sample('php-train')\n",
    "# php_test = read_language_sample('php-test')\n",
    "\n",
    "# ocml_train = read_language_sample('ocml-train')\n",
    "# ocml_test = read_language_sample('ocml-test')\n"
   ]
  },
  {
   "cell_type": "code",
   "execution_count": null,
   "metadata": {
    "collapsed": false
   },
   "outputs": [],
   "source": []
  },
  {
   "cell_type": "code",
   "execution_count": 113,
   "metadata": {
    "collapsed": true
   },
   "outputs": [],
   "source": []
  },
  {
   "cell_type": "code",
   "execution_count": null,
   "metadata": {
    "collapsed": false
   },
   "outputs": [],
   "source": []
  },
  {
   "cell_type": "code",
   "execution_count": null,
   "metadata": {
    "collapsed": true
   },
   "outputs": [],
   "source": []
  }
 ],
 "metadata": {
  "kernelspec": {
   "display_name": "Python 3",
   "language": "python",
   "name": "python3"
  },
  "language_info": {
   "codemirror_mode": {
    "name": "ipython",
    "version": 3
   },
   "file_extension": ".py",
   "mimetype": "text/x-python",
   "name": "python",
   "nbconvert_exporter": "python",
   "pygments_lexer": "ipython3",
   "version": "3.5.1"
  }
 },
 "nbformat": 4,
 "nbformat_minor": 0
}
