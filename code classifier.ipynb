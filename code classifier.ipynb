{
 "cells": [
  {
   "cell_type": "code",
   "execution_count": 34,
   "metadata": {
    "collapsed": true
   },
   "outputs": [],
   "source": [
    "from sklearn.naive_bayes import MultinomialNB\n",
    "from sklearn.feature_extraction.text import CountVectorizer\n",
    "from sklearn.feature_extraction.text import TfidfTransformer\n",
    "from sklearn.pipeline import Pipeline\n",
    "from sklearn.cross_validation import train_test_split\n",
    "import pandas as pd\n",
    "import glob\n",
    "import codecs\n",
    "import sklearn\n",
    "import matplotlib.pyplot as plt\n",
    "\n",
    "%matplotlib inline"
   ]
  },
  {
   "cell_type": "code",
   "execution_count": null,
   "metadata": {
    "collapsed": false
   },
   "outputs": [],
   "source": []
  },
  {
   "cell_type": "code",
   "execution_count": 45,
   "metadata": {
    "collapsed": false
   },
   "outputs": [],
   "source": [
    "clojure = glob.glob('bench/*.clojure')\n",
    "python = glob.glob('bench/*.python')\n",
    "javascript = glob.glob('bench/*.javascript')\n",
    "ruby = glob.glob('bench/*.ruby')\n",
    "haskell = glob.glob('bench/*.haskell')\n",
    "scheme = glob.glob('bench/*.scheme')\n",
    "java = glob.glob('bench/*.java')\n",
    "scala = glob.glob('bench/*.scala')\n",
    "tcl = glob.glob('bench/*.tcl')\n",
    "php = glob.glob('bench/*.php')\n",
    "ocml = glob.glob('bench/*.ocml')\n",
    "    "
   ]
  },
  {
   "cell_type": "code",
   "execution_count": null,
   "metadata": {
    "collapsed": true
   },
   "outputs": [],
   "source": [
    "for files in ??"
   ]
  },
  {
   "cell_type": "code",
   "execution_count": 44,
   "metadata": {
    "collapsed": false
   },
   "outputs": [
    {
     "data": {
      "text/plain": [
       "['bench/binarytrees.clojure',\n",
       " 'bench/binarytrees.clojure-2.clojure',\n",
       " 'bench/binarytrees.clojure-6.clojure',\n",
       " 'bench/binarytreesredux.clojure',\n",
       " 'bench/binarytreesredux.clojure-6.clojure',\n",
       " 'bench/chameneosredux.clojure',\n",
       " 'bench/fannkuchredux.clojure-2.clojure',\n",
       " 'bench/fannkuchredux.clojure-3.clojure',\n",
       " 'bench/fasta.clojure-5.clojure',\n",
       " 'bench/fasta.clojure-6.clojure',\n",
       " 'bench/fastaredux.clojure-4.clojure',\n",
       " 'bench/fastaredux.clojure-5.clojure',\n",
       " 'bench/fastaredux.clojure-6.clojure',\n",
       " 'bench/knucleotide.clojure-4.clojure',\n",
       " 'bench/knucleotide.clojure-5.clojure',\n",
       " 'bench/knucleotide.clojure-6.clojure',\n",
       " 'bench/knucleotide.clojure-7.clojure',\n",
       " 'bench/mandelbrot.clojure-5.clojure',\n",
       " 'bench/mandelbrot.clojure-6.clojure',\n",
       " 'bench/mandelbrot.clojure-7.clojure',\n",
       " 'bench/meteor.clojure-2.clojure',\n",
       " 'bench/nbody.clojure',\n",
       " 'bench/nbody.clojure-2.clojure',\n",
       " 'bench/pidigits.clojure-2.clojure',\n",
       " 'bench/pidigits.clojure-3.clojure',\n",
       " 'bench/pidigits.clojure-4.clojure',\n",
       " 'bench/pidigits.clojure-5.clojure',\n",
       " 'bench/regexdna.clojure-3.clojure',\n",
       " 'bench/regexdna.clojure-4.clojure',\n",
       " 'bench/revcomp.clojure',\n",
       " 'bench/revcomp.clojure-3.clojure',\n",
       " 'bench/revcomp.clojure-4.clojure',\n",
       " 'bench/revcomp.clojure-5.clojure',\n",
       " 'bench/spectralnorm.clojure-6.clojure',\n",
       " 'bench/spectralnorm.clojure-7.clojure',\n",
       " 'bench/spectralnorm.clojure-8.clojure',\n",
       " 'bench/threadring.clojure',\n",
       " 'bench/threadring.clojure-2.clojure']"
      ]
     },
     "execution_count": 44,
     "metadata": {},
     "output_type": "execute_result"
    }
   ],
   "source": [
    "\n",
    "\n",
    "\n",
    "# clojure_train = read_language_sample('clojure-train')\n",
    "# clojure_test = read_language_sample('clojure-test')\n",
    "\n",
    "# python_train = read_language_sample('python-train')\n",
    "# python_test = read_language_sample('python-test')\n",
    "\n",
    "# javascript_train = read_language_sample('javascript-train')\n",
    "# javascript_test = read_language_sample('javascript-test')\n",
    "\n",
    "# ruby_train = read_language_sample('ruby-train')\n",
    "# ruby_test = read_language_sample('ruby-test')\n",
    "\n",
    "# haskell_train = read_language_sample('haskell-train')\n",
    "# haskell_test = read_language_sample('haskell-test')\n",
    "\n",
    "# scheme_train = read_language_sample('scheme-train')\n",
    "# scheme_test = read_language_sample('scheme-test')\n",
    "\n",
    "# java_train = read_language_sample('java-train')\n",
    "# java_test = read_language_sample('java-test')\n",
    "\n",
    "# scala_train = read_language_sample('scala-train')\n",
    "# scala_test = read_language_sample('scala-test')\n",
    "\n",
    "# tcl_train = read_language_sample('tcl-train')\n",
    "# tcl_test = read_language_sample('tcl-test')\n",
    "\n",
    "# php_train = read_language_sample('php-train')\n",
    "# php_test = read_language_sample('php-test')\n",
    "\n",
    "# ocml_train = read_language_sample('ocml-train')\n",
    "# ocml_test = read_language_sample('ocml-test')\n"
   ]
  },
  {
   "cell_type": "code",
   "execution_count": null,
   "metadata": {
    "collapsed": true
   },
   "outputs": [],
   "source": []
  }
 ],
 "metadata": {
  "kernelspec": {
   "display_name": "Python 3",
   "language": "python",
   "name": "python3"
  },
  "language_info": {
   "codemirror_mode": {
    "name": "ipython",
    "version": 3
   },
   "file_extension": ".py",
   "mimetype": "text/x-python",
   "name": "python",
   "nbconvert_exporter": "python",
   "pygments_lexer": "ipython3",
   "version": "3.5.1"
  }
 },
 "nbformat": 4,
 "nbformat_minor": 0
}
